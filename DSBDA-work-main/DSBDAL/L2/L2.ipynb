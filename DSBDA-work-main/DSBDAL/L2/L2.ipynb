{
 "cells": [
  {
   "cell_type": "code",
   "execution_count": 1,
   "id": "b52da342-f31d-4c2d-b5bb-2600ed6ff7a9",
   "metadata": {},
   "outputs": [],
   "source": [
    "import pandas as pd\n",
    "import numpy as np\n",
    "import seaborn as sns\n",
    "import matplotlib.pyplot as plt\n",
    "from sklearn.preprocessing import LabelEncoder\n"
   ]
  },
  {
   "cell_type": "code",
   "execution_count": null,
   "id": "48244c7c-695d-44ab-8dc2-b5090de7ed8c",
   "metadata": {},
   "outputs": [],
   "source": [
    "df=sns.load_dataset('iris')"
   ]
  },
  {
   "cell_type": "code",
   "execution_count": null,
   "id": "771c06a2-5d2e-4916-85cc-ee5b42f9e9f2",
   "metadata": {},
   "outputs": [],
   "source": [
    "print(\"Dataset Preview:\")\n",
    "print(df.head())"
   ]
  },
  {
   "cell_type": "code",
   "execution_count": null,
   "id": "d6c201d0-ab3f-4584-9594-57d06bc8d8f7",
   "metadata": {},
   "outputs": [],
   "source": [
    "Dataset Preview:\n",
    "   sepal_length  sepal_width  petal_length  petal_width species\n",
    "0           5.1          3.5           1.4          0.2  setosa\n",
    "1           4.9          3.0           1.4          0.2  setosa\n",
    "2           4.7          3.2           1.3          0.2  setosa\n",
    "3           4.6          3.1           1.5          0.2  setosa\n",
    "4           5.0          3.6           1.4          0.2  setosa"
   ]
  },
  {
   "cell_type": "code",
   "execution_count": null,
   "id": "f68c1673-7634-4226-940c-072b85177da8",
   "metadata": {},
   "outputs": [],
   "source": [
    "print(\"\\nMissing Values:\")\n",
    "print(df.isnull().sum())"
   ]
  },
  {
   "cell_type": "code",
   "execution_count": null,
   "id": "312d2aab-87c1-4589-ae9a-2658f9d41043",
   "metadata": {},
   "outputs": [],
   "source": [
    "Missing Values:\n",
    "sepal_length    0\n",
    "sepal_width     0\n",
    "petal_length    0\n",
    "petal_width     0\n",
    "species         0\n",
    "dtype: int64"
   ]
  },
  {
   "cell_type": "code",
   "execution_count": null,
   "id": "61082a7b-c844-48f3-a33f-851fbb0b0685",
   "metadata": {},
   "outputs": [],
   "source": [
    "print(\"\\nDataset Description:\")\n",
    "print(df.describe())"
   ]
  },
  {
   "cell_type": "code",
   "execution_count": null,
   "id": "dfd741d4-cd88-440e-a6ee-006222e446e1",
   "metadata": {},
   "outputs": [],
   "source": [
    "Dataset Description:\n",
    "       sepal_length  sepal_width  petal_length  petal_width\n",
    "count    150.000000   150.000000    150.000000   150.000000\n",
    "mean       5.843333     3.057333      3.758000     1.199333\n",
    "std        0.828066     0.435866      1.765298     0.762238\n",
    "min        4.300000     2.000000      1.000000     0.100000\n",
    "25%        5.100000     2.800000      1.600000     0.300000\n",
    "50%        5.800000     3.000000      4.350000     1.300000\n",
    "75%        6.400000     3.300000      5.100000     1.800000\n",
    "max        7.900000     4.400000      6.900000     2.500000\n",
    "\n",
    "[6]\n",
    "0s\n"
   ]
  },
  {
   "cell_type": "code",
   "execution_count": null,
   "id": "bcf4b21c-2742-4dfa-ab1f-996837f2cd8d",
   "metadata": {},
   "outputs": [],
   "source": [
    "print(\"\\nDataset Info:\")\n",
    "print(df.info())"
   ]
  },
  {
   "cell_type": "code",
   "execution_count": null,
   "id": "1558a34d-f2c4-4290-8b2d-20b85bea9b8e",
   "metadata": {},
   "outputs": [],
   "source": [
    "Dataset Info:\n",
    "<class 'pandas.core.frame.DataFrame'>\n",
    "RangeIndex: 150 entries, 0 to 149\n",
    "Data columns (total 5 columns):\n",
    " #   Column        Non-Null Count  Dtype  \n",
    "---  ------        --------------  -----  \n",
    " 0   sepal_length  150 non-null    float64\n",
    " 1   sepal_width   150 non-null    float64\n",
    " 2   petal_length  150 non-null    float64\n",
    " 3   petal_width   150 non-null    float64\n",
    " 4   species       150 non-null    object \n",
    "dtypes: float64(4), object(1)\n",
    "memory usage: 6.0+ KB\n",
    "None"
   ]
  },
  {
   "cell_type": "code",
   "execution_count": null,
   "id": "a3c261a3-fd13-476a-bdfd-0f97d6283bea",
   "metadata": {},
   "outputs": [],
   "source": [
    "print(\"\\nDataset Dimensions:\", df.shape)"
   ]
  }
 ],
 "metadata": {
  "kernelspec": {
   "display_name": "Python [conda env:base] *",
   "language": "python",
   "name": "conda-base-py"
  },
  "language_info": {
   "codemirror_mode": {
    "name": "ipython",
    "version": 3
   },
   "file_extension": ".py",
   "mimetype": "text/x-python",
   "name": "python",
   "nbconvert_exporter": "python",
   "pygments_lexer": "ipython3",
   "version": "3.12.7"
  }
 },
 "nbformat": 4,
 "nbformat_minor": 5
}
