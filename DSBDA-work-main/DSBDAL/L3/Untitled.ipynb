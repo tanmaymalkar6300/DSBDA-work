{
 "cells": [
  {
   "cell_type": "code",
   "execution_count": 1,
   "id": "4830a797-c42d-41bb-9b76-26a9d6f09f4b",
   "metadata": {},
   "outputs": [],
   "source": [
    "import pandas as pd"
   ]
  },
  {
   "cell_type": "code",
   "execution_count": 7,
   "id": "9ab89753-a644-49b9-8d7d-6499e02a0da2",
   "metadata": {},
   "outputs": [
    {
     "ename": "SyntaxError",
     "evalue": "unterminated string literal (detected at line 1) (961690360.py, line 1)",
     "output_type": "error",
     "traceback": [
      "\u001b[0;36m  Cell \u001b[0;32mIn[7], line 1\u001b[0;36m\u001b[0m\n\u001b[0;31m    df = pd.read_csv('/Users/tanmaymalkar/DSBDAL/L3/Mall_Customers 2.csv\u001b[0m\n\u001b[0m                     ^\u001b[0m\n\u001b[0;31mSyntaxError\u001b[0m\u001b[0;31m:\u001b[0m unterminated string literal (detected at line 1)\n"
     ]
    }
   ],
   "source": [
    "df = pd.read_csv('/Users/tanmaymalkar/DSBDAL/L3/Mall_Customers 2.csv\n",
    "')"
   ]
  },
  {
   "cell_type": "code",
   "execution_count": 11,
   "id": "6b59dfea-7ffe-44d0-9f27-037da9decdb1",
   "metadata": {},
   "outputs": [],
   "source": [
    " file_path = \"/Users/tanmaymalkar/DSBDAL/L3/Mall_Customers 2.csv\"\n",
    "df = pd.read_csv(file_path)"
   ]
  },
  {
   "cell_type": "code",
   "execution_count": 13,
   "id": "c28f6962-a7b6-4aab-9341-c232a8a1353a",
   "metadata": {},
   "outputs": [
    {
     "name": "stdout",
     "output_type": "stream",
     "text": [
      "   CustomerID   Genre  Age  Annual Income (k$)  Spending Score (1-100)\n",
      "0           1    Male   19                  15                      39\n",
      "1           2    Male   21                  15                      81\n",
      "2           3  Female   20                  16                       6\n",
      "3           4  Female   23                  16                      77\n",
      "4           5  Female   31                  17                      40\n"
     ]
    }
   ],
   "source": [
    "print(df.head())"
   ]
  },
  {
   "cell_type": "code",
   "execution_count": 19,
   "id": "b7ce8d60-d77e-493b-8363-26dcbc51ca0f",
   "metadata": {},
   "outputs": [],
   "source": [
    "categorical_var = 'Age'\n"
   ]
  },
  {
   "cell_type": "code",
   "execution_count": 33,
   "id": "38ddf41b-c4e0-4759-a325-999812adc570",
   "metadata": {},
   "outputs": [],
   "source": [
    "numerical_var = 'Annual Income (k$)'"
   ]
  },
  {
   "cell_type": "code",
   "execution_count": 35,
   "id": "c9cc13cb-84c2-4e32-b7c4-d81c9e2ff820",
   "metadata": {},
   "outputs": [],
   "source": [
    "summary_stats = df.groupby(categorical_var)[numerical_var].agg(['mean','median','min','max','std'])"
   ]
  },
  {
   "cell_type": "code",
   "execution_count": 37,
   "id": "c46b20f9-6f2a-4f09-8ec7-2499013e3be5",
   "metadata": {},
   "outputs": [],
   "source": [
    "grouped_values = df.groupby(categorical_var)[numerical_var].apply(list)"
   ]
  },
  {
   "cell_type": "code",
   "execution_count": 39,
   "id": "6f7a4e55-0c33-424a-b5ad-e52013cd337a",
   "metadata": {},
   "outputs": [
    {
     "name": "stdout",
     "output_type": "stream",
     "text": [
      "Index(['CustomerID', 'Genre', 'Age', 'Annual Income (k$)',\n",
      "       'Spending Score (1-100)'],\n",
      "      dtype='object')\n"
     ]
    }
   ],
   "source": [
    "print(df.columns)\n"
   ]
  },
  {
   "cell_type": "code",
   "execution_count": 41,
   "id": "088a5f59-4052-4f31-8b00-6855d56698ba",
   "metadata": {},
   "outputs": [
    {
     "name": "stdout",
     "output_type": "stream",
     "text": [
      "Summary Statistics:\n",
      "           mean  median  min  max        std\n",
      "Age                                         \n",
      "18    51.250000    53.5   33   65  14.056434\n",
      "19    57.000000    63.5   15   81  20.632845\n",
      "20    41.600000    37.0   16   73  24.815318\n",
      "21    38.800000    33.0   15   62  19.018412\n",
      "22    31.333333    20.0   17   57  22.278540\n",
      "23    41.500000    41.5   16   70  23.441416\n",
      "24    39.250000    38.5   20   60  16.357975\n",
      "25    57.666667    72.0   24   77  29.263174\n",
      "26    58.000000    58.0   54   62   5.656854\n",
      "27    63.166667    63.5   40   88  18.400181\n",
      "28    85.250000    82.0   76  101  11.615363\n",
      "29    63.600000    73.0   28   98  28.866936\n",
      "30    76.142857    78.0   19  137  39.612408\n",
      "31    48.375000    41.5   17   81  23.323425\n",
      "32    87.181818    77.0   48  137  26.809768\n",
      "33    80.333333    86.0   42  113  35.837597\n",
      "34    79.000000    78.0   58  103  15.968719\n",
      "35    46.666667    24.0   18  120  38.632888\n",
      "36    81.000000    87.0   37  103  22.556595\n",
      "37    65.000000    78.0   20   97  40.112342\n",
      "38    74.500000    69.0   54  113  20.462160\n",
      "39    72.666667    71.0   69   78   4.725816\n",
      "40    61.666667    64.5   29   87  19.551641\n",
      "41   101.000000   101.0   99  103   2.828427\n",
      "42    60.000000    60.0   34   86  36.769553\n",
      "43    65.666667    71.0   48   78  15.695010\n",
      "44    75.500000    75.5   73   78   3.535534\n",
      "45    69.333333    54.0   28  126  50.767444\n",
      "46    59.000000    54.0   25   98  36.755952\n",
      "47    70.166667    65.5   43  120  27.694163\n",
      "48    58.200000    60.0   39   77  13.700365\n",
      "49    51.000000    54.0   33   65  12.884099\n",
      "50    58.600000    58.0   40   85  18.420098\n",
      "51    55.500000    55.5   44   67  16.263456\n",
      "52    55.500000    55.5   23   88  45.961941\n",
      "53    39.500000    39.5   33   46   9.192388\n",
      "54    59.750000    55.0   28  101  30.998656\n",
      "55    57.000000    57.0   57   57        NaN\n",
      "56    79.000000    79.0   79   79        NaN\n",
      "57    64.500000    64.5   54   75  14.849242\n",
      "58    54.000000    54.0   20   88  48.083261\n",
      "59    65.250000    62.5   43   93  21.792583\n",
      "60    43.333333    50.0   30   50  11.547005\n",
      "63    56.500000    56.5   48   65  12.020815\n",
      "64    19.000000    19.0   19   19        NaN\n",
      "65    50.500000    50.5   38   63  17.677670\n",
      "66    63.000000    63.0   63   63   0.000000\n",
      "67    45.500000    50.5   19   62  18.699376\n",
      "68    56.666667    59.0   48   63   7.767453\n",
      "69    44.000000    44.0   44   44        NaN\n",
      "70    47.500000    47.5   46   49   2.121320\n"
     ]
    }
   ],
   "source": [
    "print(\"Summary Statistics:\")\n",
    "print(summary_stats)"
   ]
  },
  {
   "cell_type": "code",
   "execution_count": 43,
   "id": "9d21b6c7-9cd6-4881-ab10-fb2eb27830d7",
   "metadata": {},
   "outputs": [
    {
     "name": "stdout",
     "output_type": "stream",
     "text": [
      "\n",
      "List of Numerical Values for Each Category:\n",
      "Age\n",
      "18                                   [33, 48, 59, 65]\n",
      "19                   [15, 46, 48, 63, 64, 65, 74, 81]\n",
      "20                               [16, 21, 37, 61, 73]\n",
      "21                               [15, 30, 33, 54, 62]\n",
      "22                                       [17, 20, 57]\n",
      "23                           [16, 18, 29, 54, 62, 70]\n",
      "24                                   [20, 38, 39, 60]\n",
      "25                                       [24, 72, 77]\n",
      "26                                           [54, 62]\n",
      "27                           [40, 46, 60, 67, 78, 88]\n",
      "28                                  [76, 77, 87, 101]\n",
      "29                               [28, 40, 73, 79, 98]\n",
      "30                      [19, 34, 78, 78, 88, 99, 137]\n",
      "31                   [17, 25, 39, 40, 43, 70, 72, 81]\n",
      "32    [48, 60, 73, 75, 76, 77, 87, 97, 103, 126, 137]\n",
      "33                                      [42, 86, 113]\n",
      "34                              [58, 78, 78, 78, 103]\n",
      "35              [18, 19, 21, 23, 24, 28, 74, 93, 120]\n",
      "36                          [37, 85, 87, 87, 87, 103]\n",
      "37                                       [20, 78, 97]\n",
      "38                          [54, 64, 67, 71, 78, 113]\n",
      "39                                       [69, 71, 78]\n",
      "40                           [29, 54, 60, 69, 71, 87]\n",
      "41                                          [99, 103]\n",
      "42                                           [34, 86]\n",
      "43                                       [48, 71, 78]\n",
      "44                                           [73, 78]\n",
      "45                                      [28, 54, 126]\n",
      "46                                       [25, 54, 98]\n",
      "47                          [43, 49, 60, 71, 78, 120]\n",
      "48                               [39, 54, 60, 61, 77]\n",
      "49                       [33, 39, 42, 54, 62, 62, 65]\n",
      "50                               [40, 43, 58, 67, 85]\n",
      "51                                           [44, 67]\n",
      "52                                           [23, 88]\n",
      "53                                           [33, 46]\n",
      "54                                  [28, 47, 63, 101]\n",
      "55                                               [57]\n",
      "56                                               [79]\n",
      "57                                           [54, 75]\n",
      "58                                           [20, 88]\n",
      "59                                   [43, 54, 71, 93]\n",
      "60                                       [30, 50, 50]\n",
      "63                                           [48, 65]\n",
      "64                                               [19]\n",
      "65                                           [38, 63]\n",
      "66                                           [63, 63]\n",
      "67                                   [19, 47, 54, 62]\n",
      "68                                       [48, 59, 63]\n",
      "69                                               [44]\n",
      "70                                           [46, 49]\n",
      "Name: Annual Income (k$), dtype: object\n"
     ]
    }
   ],
   "source": [
    "print(\"\\nList of Numerical Values for Each Category:\")\n",
    "print(grouped_values)"
   ]
  },
  {
   "cell_type": "code",
   "execution_count": 45,
   "id": "8bef4cd1-ff3a-4295-8a36-098f0d28f7e9",
   "metadata": {},
   "outputs": [
    {
     "name": "stdout",
     "output_type": "stream",
     "text": [
      "<bound method NDFrame.describe of      CustomerID   Genre  Age  Annual Income (k$)  Spending Score (1-100)\n",
      "0             1    Male   19                  15                      39\n",
      "1             2    Male   21                  15                      81\n",
      "2             3  Female   20                  16                       6\n",
      "3             4  Female   23                  16                      77\n",
      "4             5  Female   31                  17                      40\n",
      "..          ...     ...  ...                 ...                     ...\n",
      "195         196  Female   35                 120                      79\n",
      "196         197  Female   45                 126                      28\n",
      "197         198    Male   32                 126                      74\n",
      "198         199    Male   32                 137                      18\n",
      "199         200    Male   30                 137                      83\n",
      "\n",
      "[200 rows x 5 columns]>\n"
     ]
    }
   ],
   "source": [
    "print(df.describe)"
   ]
  },
  {
   "cell_type": "code",
   "execution_count": 47,
   "id": "69922079-2188-47db-8c30-2ebcc2ac25e8",
   "metadata": {},
   "outputs": [
    {
     "name": "stdout",
     "output_type": "stream",
     "text": [
      "       CustomerID         Age  Annual Income (k$)  Spending Score (1-100)\n",
      "count  200.000000  200.000000          200.000000              200.000000\n",
      "mean   100.500000   38.850000           60.560000               50.200000\n",
      "std     57.879185   13.969007           26.264721               25.823522\n",
      "min      1.000000   18.000000           15.000000                1.000000\n",
      "25%     50.750000   28.750000           41.500000               34.750000\n",
      "50%    100.500000   36.000000           61.500000               50.000000\n",
      "75%    150.250000   49.000000           78.000000               73.000000\n",
      "max    200.000000   70.000000          137.000000               99.000000\n"
     ]
    }
   ],
   "source": [
    "\n",
    "summary_stats = df.describe()\n",
    "\n",
    "\n",
    "print(summary_stats)\n"
   ]
  },
  {
   "cell_type": "code",
   "execution_count": null,
   "id": "b506643d-0d2b-4b54-8000-ed2d2d4091ac",
   "metadata": {},
   "outputs": [],
   "source": []
  }
 ],
 "metadata": {
  "kernelspec": {
   "display_name": "Python [conda env:base] *",
   "language": "python",
   "name": "conda-base-py"
  },
  "language_info": {
   "codemirror_mode": {
    "name": "ipython",
    "version": 3
   },
   "file_extension": ".py",
   "mimetype": "text/x-python",
   "name": "python",
   "nbconvert_exporter": "python",
   "pygments_lexer": "ipython3",
   "version": "3.12.7"
  }
 },
 "nbformat": 4,
 "nbformat_minor": 5
}
