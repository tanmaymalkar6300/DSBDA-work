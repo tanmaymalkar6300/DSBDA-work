{
 "cells": [
  {
   "cell_type": "code",
   "execution_count": 1,
   "id": "e6332d2e-56b4-4c72-b489-55d48ecb21f4",
   "metadata": {},
   "outputs": [],
   "source": [
    "import pandas as pd\n"
   ]
  },
  {
   "cell_type": "code",
   "execution_count": 3,
   "id": "35d2a310-b833-427f-b3bb-442e9da21ed1",
   "metadata": {},
   "outputs": [],
   "source": [
    "file_path = \"/Users/tanmaymalkar/DSBDAL/L3/iris.csv\"\n",
    "df = pd.read_csv(file_path)"
   ]
  },
  {
   "cell_type": "code",
   "execution_count": 5,
   "id": "4f221e8e-0056-4eef-9a71-f5127bc0f1d5",
   "metadata": {},
   "outputs": [
    {
     "name": "stdout",
     "output_type": "stream",
     "text": [
      "   sepal_length  sepal_width  petal_length  petal_width species\n",
      "0           5.1          3.5           1.4          0.2  setosa\n",
      "1           4.9          3.0           1.4          0.2  setosa\n",
      "2           4.7          3.2           1.3          0.2  setosa\n",
      "3           4.6          3.1           1.5          0.2  setosa\n",
      "4           5.0          3.6           1.4          0.2  setosa\n"
     ]
    }
   ],
   "source": [
    "print(df.head())"
   ]
  },
  {
   "cell_type": "code",
   "execution_count": 7,
   "id": "0182ba16-e9b9-404d-a83d-520311c508b3",
   "metadata": {},
   "outputs": [],
   "source": [
    "# Filter the dataset based on species\n",
    "setosa = df[df['species'] == 'Iris-setosa']\n",
    "versicolor = df[df['species'] == 'Iris-versicolor']\n",
    "virginica = df[df['species'] == 'Iris-virginica']\n"
   ]
  },
  {
   "cell_type": "code",
   "execution_count": 9,
   "id": "4697ef08-5934-404f-b497-aebee3a26732",
   "metadata": {},
   "outputs": [
    {
     "name": "stdout",
     "output_type": "stream",
     "text": [
      "\n",
      "Statistics for Iris-setosa:\n",
      "       sepal_length  sepal_width  petal_length  petal_width\n",
      "count           0.0          0.0           0.0          0.0\n",
      "mean            NaN          NaN           NaN          NaN\n",
      "std             NaN          NaN           NaN          NaN\n",
      "min             NaN          NaN           NaN          NaN\n",
      "25%             NaN          NaN           NaN          NaN\n",
      "50%             NaN          NaN           NaN          NaN\n",
      "75%             NaN          NaN           NaN          NaN\n",
      "max             NaN          NaN           NaN          NaN\n",
      "\n",
      "Statistics for Iris-versicolor:\n",
      "       sepal_length  sepal_width  petal_length  petal_width\n",
      "count           0.0          0.0           0.0          0.0\n",
      "mean            NaN          NaN           NaN          NaN\n",
      "std             NaN          NaN           NaN          NaN\n",
      "min             NaN          NaN           NaN          NaN\n",
      "25%             NaN          NaN           NaN          NaN\n",
      "50%             NaN          NaN           NaN          NaN\n",
      "75%             NaN          NaN           NaN          NaN\n",
      "max             NaN          NaN           NaN          NaN\n",
      "\n",
      "Statistics for Iris-virginica:\n",
      "       sepal_length  sepal_width  petal_length  petal_width\n",
      "count           0.0          0.0           0.0          0.0\n",
      "mean            NaN          NaN           NaN          NaN\n",
      "std             NaN          NaN           NaN          NaN\n",
      "min             NaN          NaN           NaN          NaN\n",
      "25%             NaN          NaN           NaN          NaN\n",
      "50%             NaN          NaN           NaN          NaN\n",
      "75%             NaN          NaN           NaN          NaN\n",
      "max             NaN          NaN           NaN          NaN\n"
     ]
    }
   ],
   "source": [
    "# Display statistics for each species\n",
    "print(\"\\nStatistics for Iris-setosa:\")\n",
    "print(setosa.describe())\n",
    "\n",
    "print(\"\\nStatistics for Iris-versicolor:\")\n",
    "print(versicolor.describe())\n",
    "\n",
    "print(\"\\nStatistics for Iris-virginica:\")\n",
    "print(virginica.describe())\n"
   ]
  },
  {
   "cell_type": "code",
   "execution_count": null,
   "id": "57268927-76b1-41b2-9652-698ff428a68a",
   "metadata": {},
   "outputs": [],
   "source": []
  }
 ],
 "metadata": {
  "kernelspec": {
   "display_name": "Python [conda env:base] *",
   "language": "python",
   "name": "conda-base-py"
  },
  "language_info": {
   "codemirror_mode": {
    "name": "ipython",
    "version": 3
   },
   "file_extension": ".py",
   "mimetype": "text/x-python",
   "name": "python",
   "nbconvert_exporter": "python",
   "pygments_lexer": "ipython3",
   "version": "3.12.7"
  }
 },
 "nbformat": 4,
 "nbformat_minor": 5
}
