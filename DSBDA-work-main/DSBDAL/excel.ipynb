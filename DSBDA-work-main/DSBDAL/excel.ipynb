{
 "cells": [
  {
   "cell_type": "code",
   "execution_count": 3,
   "id": "0bfbcfff-5b91-472d-a065-0c0b6a33fcc6",
   "metadata": {},
   "outputs": [],
   "source": [
    "import pandas as pd\n",
    "import numpy as np\n",
    "import matplotlib.pyplot as plt\n",
    "import seaborn as sns\n"
   ]
  },
  {
   "cell_type": "code",
   "execution_count": 3,
   "id": "2241fdb9-6af1-4589-8f79-f67d2d72dce8",
   "metadata": {},
   "outputs": [
    {
     "ename": "AttributeError",
     "evalue": "module 'pandas' has no attribute 'read_numbers'",
     "output_type": "error",
     "traceback": [
      "\u001b[0;31m---------------------------------------------------------------------------\u001b[0m",
      "\u001b[0;31mAttributeError\u001b[0m                            Traceback (most recent call last)",
      "Cell \u001b[0;32mIn[3], line 1\u001b[0m\n\u001b[0;32m----> 1\u001b[0m df\u001b[38;5;241m=\u001b[39mpd\u001b[38;5;241m.\u001b[39mread_numbers(\u001b[38;5;124m\"\u001b[39m\u001b[38;5;124mDSBDAL.numbers\u001b[39m\u001b[38;5;124m\"\u001b[39m)\n\u001b[1;32m      2\u001b[0m \u001b[38;5;28mprint\u001b[39m(df)\n",
      "\u001b[0;31mAttributeError\u001b[0m: module 'pandas' has no attribute 'read_numbers'"
     ]
    }
   ],
   "source": [
    "df=pd.read_numbers(\"DSBDAL.numbers\")\n",
    "print(df)"
   ]
  },
  {
   "cell_type": "code",
   "execution_count": 4,
   "id": "889c1cb2-c79f-49f2-a099-9caaebd8c84c",
   "metadata": {},
   "outputs": [
    {
     "name": "stdout",
     "output_type": "stream",
     "text": [
      "    Math_score  reading_score  Writing_Score  placement_score  \\\n",
      "0           65             84             30               45   \n",
      "1           35             65             40               56   \n",
      "2           70             67             50               25   \n",
      "3           73             85             54               56   \n",
      "4           60             73             46               56   \n",
      "5           58             83             47               57   \n",
      "6           65             86             84               68   \n",
      "7           35             84             30               34   \n",
      "8           70             65             40               78   \n",
      "9           73             67             50               57   \n",
      "10          60             85             54               90   \n",
      "11          58             73             46               45   \n",
      "12          65             83             47               56   \n",
      "13          35             86             84               25   \n",
      "14          70             84             30               56   \n",
      "15          73             65             40               56   \n",
      "16          60             67             50               57   \n",
      "17          58             85             54               68   \n",
      "18          65             73             46               34   \n",
      "19          35             83             47               78   \n",
      "20          70             86             84               57   \n",
      "21          70             84             30               90   \n",
      "22          73             65             40               45   \n",
      "23          60             67             50               56   \n",
      "24          58             85             54               25   \n",
      "25          65             73             46               56   \n",
      "26          35             83             47               56   \n",
      "27          70             86             84               57   \n",
      "28          73             84             30               68   \n",
      "\n",
      "    placement_offer-count  Club join year  \n",
      "0                      67            2017  \n",
      "1                      57            2018  \n",
      "2                      89            2019  \n",
      "3                      35            2016  \n",
      "4                      89            2017  \n",
      "5                      67            2018  \n",
      "6                      57            2019  \n",
      "7                      89            2016  \n",
      "8                      35            2017  \n",
      "9                      89            2018  \n",
      "10                     67            2019  \n",
      "11                     57            2016  \n",
      "12                     89            2017  \n",
      "13                     35            2018  \n",
      "14                     89            2019  \n",
      "15                     67            2016  \n",
      "16                     57            2017  \n",
      "17                     89            2018  \n",
      "18                     35            2019  \n",
      "19                     89            2016  \n",
      "20                     67            2017  \n",
      "21                     57            2018  \n",
      "22                     89            2019  \n",
      "23                     35            2016  \n",
      "24                     89            2017  \n",
      "25                     67            2018  \n",
      "26                     57            2019  \n",
      "27                     89            2016  \n",
      "28                     35            2017  \n"
     ]
    }
   ],
   "source": [
    "df = pd.read_csv(\"DSBDAL.csv\")\n",
    "print(df)"
   ]
  },
  {
   "cell_type": "code",
   "execution_count": 7,
   "id": "f5a3336e-9071-4eac-bc04-53c304bb0c76",
   "metadata": {},
   "outputs": [
    {
     "name": "stdout",
     "output_type": "stream",
     "text": [
      "    Math_score  reading_score  Writing_Score  placement_score  \\\n",
      "0        False          False          False            False   \n",
      "1        False          False          False            False   \n",
      "2        False          False          False            False   \n",
      "3        False          False          False            False   \n",
      "4        False          False          False            False   \n",
      "5        False          False          False            False   \n",
      "6        False          False          False            False   \n",
      "7        False          False          False            False   \n",
      "8        False          False          False            False   \n",
      "9        False          False          False            False   \n",
      "10       False          False          False            False   \n",
      "11       False          False          False            False   \n",
      "12       False          False          False            False   \n",
      "13       False          False          False            False   \n",
      "14       False          False          False            False   \n",
      "15       False          False          False            False   \n",
      "16       False          False          False            False   \n",
      "17       False          False          False            False   \n",
      "18       False          False          False            False   \n",
      "19       False          False          False            False   \n",
      "20       False          False          False            False   \n",
      "21       False          False          False            False   \n",
      "22       False          False          False            False   \n",
      "23       False          False          False            False   \n",
      "24       False          False          False            False   \n",
      "25       False          False          False            False   \n",
      "26       False          False          False            False   \n",
      "27       False          False          False            False   \n",
      "28       False          False          False            False   \n",
      "\n",
      "    placement_offer-count  Club join year  \n",
      "0                   False           False  \n",
      "1                   False           False  \n",
      "2                   False           False  \n",
      "3                   False           False  \n",
      "4                   False           False  \n",
      "5                   False           False  \n",
      "6                   False           False  \n",
      "7                   False           False  \n",
      "8                   False           False  \n",
      "9                   False           False  \n",
      "10                  False           False  \n",
      "11                  False           False  \n",
      "12                  False           False  \n",
      "13                  False           False  \n",
      "14                  False           False  \n",
      "15                  False           False  \n",
      "16                  False           False  \n",
      "17                  False           False  \n",
      "18                  False           False  \n",
      "19                  False           False  \n",
      "20                  False           False  \n",
      "21                  False           False  \n",
      "22                  False           False  \n",
      "23                  False           False  \n",
      "24                  False           False  \n",
      "25                  False           False  \n",
      "26                  False           False  \n",
      "27                  False           False  \n",
      "28                  False           False  \n"
     ]
    }
   ],
   "source": [
    "print(df.isnull())"
   ]
  },
  {
   "cell_type": "code",
   "execution_count": 9,
   "id": "2e50d628-155c-4a55-9020-77ee728381a4",
   "metadata": {},
   "outputs": [
    {
     "data": {
      "text/html": [
       "<div>\n",
       "<style scoped>\n",
       "    .dataframe tbody tr th:only-of-type {\n",
       "        vertical-align: middle;\n",
       "    }\n",
       "\n",
       "    .dataframe tbody tr th {\n",
       "        vertical-align: top;\n",
       "    }\n",
       "\n",
       "    .dataframe thead th {\n",
       "        text-align: right;\n",
       "    }\n",
       "</style>\n",
       "<table border=\"1\" class=\"dataframe\">\n",
       "  <thead>\n",
       "    <tr style=\"text-align: right;\">\n",
       "      <th></th>\n",
       "      <th>Math_score</th>\n",
       "      <th>reading_score</th>\n",
       "      <th>Writing_Score</th>\n",
       "      <th>placement_score</th>\n",
       "      <th>placement_offer-count</th>\n",
       "      <th>Club join year</th>\n",
       "    </tr>\n",
       "  </thead>\n",
       "  <tbody>\n",
       "  </tbody>\n",
       "</table>\n",
       "</div>"
      ],
      "text/plain": [
       "Empty DataFrame\n",
       "Columns: [Math_score, reading_score, Writing_Score, placement_score, placement_offer-count, Club join year]\n",
       "Index: []"
      ]
     },
     "execution_count": 9,
     "metadata": {},
     "output_type": "execute_result"
    }
   ],
   "source": [
    "series1 =pd.isnull(df[\"Math_score\"])\n",
    "df[series1]\n"
   ]
  },
  {
   "cell_type": "code",
   "execution_count": null,
   "id": "4927b9fd-c12a-4243-86be-799621e28ad4",
   "metadata": {},
   "outputs": [],
   "source": []
  }
 ],
 "metadata": {
  "kernelspec": {
   "display_name": "Python [conda env:base] *",
   "language": "python",
   "name": "conda-base-py"
  },
  "language_info": {
   "codemirror_mode": {
    "name": "ipython",
    "version": 3
   },
   "file_extension": ".py",
   "mimetype": "text/x-python",
   "name": "python",
   "nbconvert_exporter": "python",
   "pygments_lexer": "ipython3",
   "version": "3.12.7"
  }
 },
 "nbformat": 4,
 "nbformat_minor": 5
}
